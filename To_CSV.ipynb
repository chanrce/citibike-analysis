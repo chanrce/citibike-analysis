{
 "cells": [
  {
   "cell_type": "code",
   "execution_count": 1,
   "metadata": {},
   "outputs": [],
   "source": [
    "import pandas as pd"
   ]
  },
  {
   "cell_type": "code",
   "execution_count": 2,
   "metadata": {},
   "outputs": [
    {
     "name": "stdout",
     "output_type": "stream",
     "text": [
      "       tripduration                 starttime                  stoptime  \\\n",
      "0               266  2021-01-01 00:03:35.5100  2021-01-01 00:08:01.7770   \n",
      "1              1543  2021-01-01 00:23:32.9250  2021-01-01 00:49:16.0830   \n",
      "2              1461  2021-01-01 00:23:50.7940  2021-01-01 00:48:12.5660   \n",
      "3               793  2021-01-01 00:31:09.0770  2021-01-01 00:44:22.9430   \n",
      "4               596  2021-01-01 00:35:52.1900  2021-01-01 00:45:48.7740   \n",
      "...             ...                       ...                       ...   \n",
      "11619          2476  2021-01-31 20:16:05.4700  2021-01-31 20:57:22.0110   \n",
      "11620           147  2021-01-31 21:05:05.2090  2021-01-31 21:07:32.8660   \n",
      "11621           660  2021-01-31 21:06:23.5880  2021-01-31 21:17:23.8420   \n",
      "11622           384  2021-01-31 21:16:37.8220  2021-01-31 21:23:02.1240   \n",
      "11623           356  2021-01-31 23:24:50.8810  2021-01-31 23:30:47.3030   \n",
      "\n",
      "       start station id start station name  start station latitude  \\\n",
      "0                  3273       Manila & 1st               40.721651   \n",
      "1                  3681           Grand St               40.715178   \n",
      "2                  3681           Grand St               40.715178   \n",
      "3                  3185          City Hall               40.717733   \n",
      "4                  3639         Harborside               40.719252   \n",
      "...                 ...                ...                     ...   \n",
      "11619              3187          Warren St               40.721124   \n",
      "11620              3186      Grove St PATH               40.719586   \n",
      "11621              3211         Newark Ave               40.721525   \n",
      "11622              3205  JC Medical Center               40.716540   \n",
      "11623              3639         Harborside               40.719252   \n",
      "\n",
      "       start station longitude  end station id  end station name  \\\n",
      "0                   -74.042884            3209      Brunswick St   \n",
      "1                   -74.037683            3213    Van Vorst Park   \n",
      "2                   -74.037683            3213    Van Vorst Park   \n",
      "3                   -74.043845            3199      Newport Pkwy   \n",
      "4                   -74.034234            3209      Brunswick St   \n",
      "...                        ...             ...               ...   \n",
      "11619               -74.038051            3483     Montgomery St   \n",
      "11620               -74.043117            3187         Warren St   \n",
      "11621               -74.046305            3276  Marin Light Rail   \n",
      "11622               -74.049638            3268    Lafayette Park   \n",
      "11623               -74.034234            3186     Grove St PATH   \n",
      "\n",
      "       end station latitude  end station longitude  bikeid    usertype  \\\n",
      "0                 40.724176             -74.050656   42494  Subscriber   \n",
      "1                 40.718489             -74.047727   45343    Customer   \n",
      "2                 40.718489             -74.047727   31794    Customer   \n",
      "3                 40.728745             -74.032108   42316    Customer   \n",
      "4                 40.724176             -74.050656   32575    Customer   \n",
      "...                     ...                    ...     ...         ...   \n",
      "11619             40.719420             -74.050990   44852  Subscriber   \n",
      "11620             40.721124             -74.038051   46538  Subscriber   \n",
      "11621             40.714584             -74.042817   44398  Subscriber   \n",
      "11622             40.713464             -74.062859   41400  Subscriber   \n",
      "11623             40.719586             -74.043117   43766  Subscriber   \n",
      "\n",
      "       birth year  gender  \n",
      "0            1988       1  \n",
      "1            1996       2  \n",
      "2            1995       1  \n",
      "3            1969       0  \n",
      "4            1969       0  \n",
      "...           ...     ...  \n",
      "11619        1958       1  \n",
      "11620        1972       1  \n",
      "11621        1987       2  \n",
      "11622        1989       1  \n",
      "11623        1994       1  \n",
      "\n",
      "[11624 rows x 15 columns]\n"
     ]
    }
   ],
   "source": [
    "df = pd.read_csv ('Jan_21.csv')\n",
    "print (df)"
   ]
  },
  {
   "cell_type": "code",
   "execution_count": null,
   "metadata": {},
   "outputs": [],
   "source": []
  }
 ],
 "metadata": {
  "kernelspec": {
   "display_name": "Python 3",
   "language": "python",
   "name": "python3"
  },
  "language_info": {
   "codemirror_mode": {
    "name": "ipython",
    "version": 3
   },
   "file_extension": ".py",
   "mimetype": "text/x-python",
   "name": "python",
   "nbconvert_exporter": "python",
   "pygments_lexer": "ipython3",
   "version": "3.6.10"
  }
 },
 "nbformat": 4,
 "nbformat_minor": 4
}
